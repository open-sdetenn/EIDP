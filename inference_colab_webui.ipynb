{
  "cells": [
    {
      "cell_type": "code",
      "execution_count": null,
      "metadata": {
        "id": "4GqG_omidPRb"
      },
      "outputs": [],
      "source": [
        "#@title Install\n",
        "!rm -rf EIDP\n",
        "!git clone https://github.com/open-sdetenn/EIDP.git\n",
        "!mv EIDP/* /content/\n",
        "!wget https://huggingface.co/opensdetenn/resnet18_linear_v1-optimal/resolve/main/pytorch_model.pth\n",
        "!pip install -r requirements.txt\n",
        "!mkdir temp\n",
        "!mkdir tmp"
      ]
    },
    {
      "cell_type": "code",
      "execution_count": null,
      "metadata": {
        "id": "gQkIqM31e0ja"
      },
      "outputs": [],
      "source": [
        "#@title Run UI\n",
        "\n",
        "#@markdown The type of tunnel you wanna use for seeing the public link, so if the API of one of them is down, you can use the other one.\n",
        "\n",
        "#@markdown Btw if you use LocalTunnel, it will use Streamlit UI and you will have to wait for the Local URL to appear before to use the Public link with the given password.\n",
        "\n",
        "\n",
        "Tunnel = \"LocalTunnel\" #@param [\"Gradio\", \"LocalTunnel\"]\n",
        "\n",
        "if Tunnel==\"Gradio\":\n",
        "  !sed -i 's/share=False/share=True/g' /content/EIDP/webui-demo-gradio.py\n",
        "  !python webui-demo-gradio.py\n",
        "elif Tunnel==\"LocalTunnel\":\n",
        "  !npm install localtunnel\n",
        "  !pip install streamlit\n",
        "  import urllib\n",
        "  print(\"Password/Enpoint IP for localtunnel is:\",urllib.request.urlopen('https://ipv4.icanhazip.com').read().decode('utf8').strip(\"\\n\"))\n",
        "  print('Use the IP to use the demo :)')\n",
        "  !python3 -m streamlit run webui-demo-streamlit.py &>/content/logs.txt &\n",
        "  !npx localtunnel --port 8501"
      ]
    }
  ],
  "metadata": {
    "accelerator": "GPU",
    "colab": {
      "gpuType": "T4",
      "provenance": [],
      "toc_visible": true
    },
    "kernelspec": {
      "display_name": "Python 3",
      "name": "python3"
    },
    "language_info": {
      "name": "python"
    }
  },
  "nbformat": 4,
  "nbformat_minor": 0
}
